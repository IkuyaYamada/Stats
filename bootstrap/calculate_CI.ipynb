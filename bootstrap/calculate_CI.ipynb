{
 "cells": [
  {
   "cell_type": "markdown",
   "metadata": {},
   "source": [
    "<b>Bootstrap法で標準誤差と信頼区間を得る方法</b>\n",
    "\n",
    "データ生成分布に正規分布を仮定せず、データから標準誤差や信頼区間を求めます。"
   ]
  },
  {
   "cell_type": "code",
   "execution_count": 148,
   "metadata": {},
   "outputs": [],
   "source": [
    "import math\n",
    "import statistics as s\n",
    "from scipy import stats\n",
    "import random\n",
    "import numpy as np\n",
    "import matplotlib.pyplot as plt\n",
    "import seaborn as sns"
   ]
  },
  {
   "cell_type": "code",
   "execution_count": 2,
   "metadata": {},
   "outputs": [],
   "source": [
    "# 適当なデータをつくる\n",
    "\n",
    "data = [61,88,89,89,90,92,93,94,98,98,101,102,105,108,109,113,114,115,120,138]"
   ]
  },
  {
   "cell_type": "code",
   "execution_count": 29,
   "metadata": {},
   "outputs": [
    {
     "name": "stdout",
     "output_type": "stream",
     "text": [
      "mean : 100.85\n",
      "variance: 250.45\n",
      "standard deviation: 15.826\n",
      "standard error: 3.539\n"
     ]
    }
   ],
   "source": [
    "#平均、不偏分散、標準偏差、標準誤差\n",
    "n = len(data)\n",
    "mean = s.mean(data)\n",
    "var = s.variance(data)\n",
    "sd = s.stdev(data)\n",
    "se = sd/math.sqrt(n)\n",
    "print(\"mean :\", mean)\n",
    "print(\"variance:\", var)\n",
    "print(\"standard deviation: {0:.3f}\".format(sd))\n",
    "print(\"standard error: {0:.3f}\".format(se))"
   ]
  },
  {
   "cell_type": "code",
   "execution_count": 32,
   "metadata": {},
   "outputs": [
    {
     "name": "stdout",
     "output_type": "stream",
     "text": [
      "下側: 93.44338552223604\n",
      "上側: 108.25661447776395\n"
     ]
    }
   ],
   "source": [
    "# t分布 自由度はn-1\n",
    "low, up = stats.t.ppf([0.025, 1-0.025], n-1)\n",
    "\n",
    "# パーセント点のt値から信頼区間を求める\n",
    "print(\"下側: {}\".format(mean + se*low))\n",
    "print(\"上側: {}\".format(mean + se*up))"
   ]
  },
  {
   "cell_type": "markdown",
   "metadata": {},
   "source": [
    "<b>Resampling with replacement</b>\n",
    "\n",
    "手順\n",
    "1. データセットの中からランダムで一つ選ぶ\n",
    "2. 1をn回繰り返す\n",
    "3. 欲しい統計量を計算する\n",
    "4. 1-3を何千回も繰り返す\n",
    "5. 得られたブートストラップサンプルから平均と信頼区間を計算する"
   ]
  },
  {
   "cell_type": "code",
   "execution_count": 139,
   "metadata": {},
   "outputs": [],
   "source": [
    "# bootstrapを定義\n",
    "def bootstrap(data=data, num_iter=100):\n",
    "    mean_list = []\n",
    "    for i in range(num_iter):\n",
    "        _ = random.choices(data, k=len(data)) \n",
    "        mean_list.append(s.mean(_))\n",
    "    mean = s.mean(mean_list)\n",
    "    mean_list.sort()\n",
    "    up = int(len(mean_list)*(1-0.025))\n",
    "    low = int(len(mean_list)*0.025)\n",
    "    print(len(mean_list), up, low)\n",
    "    up = mean_list[up]\n",
    "    low = mean_list[low]\n",
    "    centiles =[low, up]\n",
    "    return mean_list, centiles"
   ]
  },
  {
   "cell_type": "code",
   "execution_count": 145,
   "metadata": {},
   "outputs": [
    {
     "name": "stdout",
     "output_type": "stream",
     "text": [
      "100000 97500 2500\n",
      "mean : 100.838167\n",
      "sd : 3.443416813472414\n"
     ]
    }
   ],
   "source": [
    "# bootstrapの実行\n",
    "random.seed(198)\n",
    "mean_list, centiles = bootstrap(num_iter=100000)\n",
    "mean = s.mean(mean_list)\n",
    "sd = s.stdev(mean_list)\n",
    "print(\"mean :\", mean)\n",
    "print(\"sd :\", sd)"
   ]
  },
  {
   "cell_type": "code",
   "execution_count": 132,
   "metadata": {},
   "outputs": [
    {
     "name": "stdout",
     "output_type": "stream",
     "text": [
      "[84.3, 86.05, 86.4, 86.65, 86.9, 87.05, 87.15, 87.15, 87.35, 87.45]\n"
     ]
    }
   ],
   "source": [
    "print(mean_list[:10])"
   ]
  },
  {
   "cell_type": "code",
   "execution_count": 174,
   "metadata": {},
   "outputs": [
    {
     "data": {
      "image/png": "[encoded data removed]",
      "text/plain": [
       "<Figure size 504x432 with 1 Axes>"
      ]
     },
     "metadata": {
      "needs_background": "light"
     },
     "output_type": "display_data"
    }
   ],
   "source": [
    "# お絵かき\n",
    "plt.close()\n",
    "fig = plt.figure(figsize=(7, 6))\n",
    "data = [(i - mean)/sd for i in mean_list]\n",
    "#plt.subplot(1,2,1)\n",
    "plt.title(\"Histgram and Kernel Density\")\n",
    "plt.hist(mean_list, bins=25, density=True)\n",
    "#plt.subplot(1,2,2)\n",
    "sns.kdeplot(mean_list)\n",
    "plt.show()"
   ]
  }
 ],
 "metadata": {
  "kernelspec": {
   "display_name": "Python 3",
   "language": "python",
   "name": "python3"
  },
  "language_info": {
   "codemirror_mode": {
    "name": "ipython",
    "version": 3
   },
   "file_extension": ".py",
   "mimetype": "text/x-python",
   "name": "python",
   "nbconvert_exporter": "python",
   "pygments_lexer": "ipython3",
   "version": "3.6.8"
  }
 },
 "nbformat": 4,
 "nbformat_minor": 2
}
